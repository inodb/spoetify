{
 "metadata": {
  "name": "",
  "signature": "sha256:22c0de3107630350d21dd4f0506888079cd235ad6c0c3692f55b8d314fcf7b6f"
 },
 "nbformat": 3,
 "nbformat_minor": 0,
 "worksheets": [
  {
   "cells": [
    {
     "cell_type": "heading",
     "level": 2,
     "metadata": {},
     "source": [
      "Imports"
     ]
    },
    {
     "cell_type": "code",
     "collapsed": false,
     "input": [
      "from pprint import pprint\n",
      "# JSON\n",
      "import requests\n",
      "import json\n",
      "# ordered groupings\n",
      "from itertools import chain, combinations\n",
      "# show spotify widgets\n",
      "from IPython.display import HTML"
     ],
     "language": "python",
     "metadata": {},
     "outputs": [],
     "prompt_number": 67
    },
    {
     "cell_type": "heading",
     "level": 2,
     "metadata": {},
     "source": [
      "Create all possible ordered groupings"
     ]
    },
    {
     "cell_type": "code",
     "collapsed": false,
     "input": [
      "def partition(iterable, chain=chain, map=map):\n",
      "    \"\"\"From: http://code.activestate.com/recipes/576795/\"\"\"\n",
      "    s = iterable if hasattr(iterable, '__getslice__') else tuple(iterable)\n",
      "    n = len(s)\n",
      "    first, middle, last = [0], range(1, n), [n]\n",
      "    getslice = s.__getslice__\n",
      "    return [map(getslice, chain(first, div), chain(div, last))\n",
      "            for i in range(n) for div in combinations(middle, i)]"
     ],
     "language": "python",
     "metadata": {},
     "outputs": [],
     "prompt_number": 38
    },
    {
     "cell_type": "code",
     "collapsed": false,
     "input": [
      "groups = partition('I like food'.split())\n",
      "pprint(groups)"
     ],
     "language": "python",
     "metadata": {},
     "outputs": [
      {
       "output_type": "stream",
       "stream": "stdout",
       "text": [
        "[[['I', 'like', 'food']],\n",
        " [['I'], ['like', 'food']],\n",
        " [['I', 'like'], ['food']],\n",
        " [['I'], ['like'], ['food']]]\n"
       ]
      }
     ],
     "prompt_number": 35
    },
    {
     "cell_type": "heading",
     "level": 2,
     "metadata": {},
     "source": [
      "Get JSON"
     ]
    },
    {
     "cell_type": "code",
     "collapsed": false,
     "input": [
      "track_store = {}\n",
      "\n",
      "def search_track_spotify(track):\n",
      "    if track not in track_store:\n",
      "        url = 'https://api.spotify.com/v1/search?q=\"{name}\"&type=track&limit={limit}'.format(name=track.replace(\" \",\"%20\"),limit=1)\n",
      "        r = requests.get(url)\n",
      "        j = r.json()\n",
      "        if j[\"tracks\"][\"total\"] > 0 and j[\"tracks\"][\"items\"][0][\"name\"].split(\"-\")[0].strip().lower() == track.lower()\n",
      "            track_store[track] = (j[\"tracks\"][\"items\"][0][\"name\"], j[\"tracks\"][\"items\"][0][\"id\"])\n",
      "        else:\n",
      "            track_store[track] = None\n",
      "    return track_store[track]"
     ],
     "language": "python",
     "metadata": {},
     "outputs": [],
     "prompt_number": 133
    },
    {
     "cell_type": "heading",
     "level": 2,
     "metadata": {},
     "source": [
      "Scoring function"
     ]
    },
    {
     "cell_type": "code",
     "collapsed": false,
     "input": [
      "max([(0, 2),(0,5)], key=lambda x:x[0])"
     ],
     "language": "python",
     "metadata": {},
     "outputs": [
      {
       "metadata": {},
       "output_type": "pyout",
       "prompt_number": 154,
       "text": [
        "(0, 2)"
       ]
      }
     ],
     "prompt_number": 154
    },
    {
     "cell_type": "code",
     "collapsed": false,
     "input": [
      "def line_to_song(line):\n",
      "    par = partition(line.split())\n",
      "    \n",
      "    hits = []\n",
      "    for p in par:\n",
      "        matched_words = 0\n",
      "        sp_tracks = []\n",
      "        # group in partition\n",
      "        for n in p:\n",
      "            sp_track = search_track_spotify(\" \".join(n))\n",
      "            if sp_track:\n",
      "                #print n, sp_track\n",
      "                matched_words += len(n)\n",
      "                sp_tracks.append(sp_track)\n",
      "            #else:\n",
      "                #print n, 0, 0\n",
      "        hits.append((matched_words, sp_tracks))\n",
      "    \n",
      "    # find max matches\n",
      "    max_m = max(hits, key=lambda x: x[0])[0]\n",
      "    hits_max_m = [h for h in hits if h[0] == max_m]\n",
      "    best = min(hits_max_m, key=lambda x: len(x[1]))\n",
      "        \n",
      "    return best\n",
      "\n",
      "best = line_to_song(\"My love\")\n",
      "print best"
     ],
     "language": "python",
     "metadata": {},
     "outputs": [
      {
       "output_type": "stream",
       "stream": "stdout",
       "text": [
        "(2, [(u'My Love', u'0idc0XRnLRovVqpWnGQ6hC')])\n"
       ]
      }
     ],
     "prompt_number": 158
    },
    {
     "cell_type": "code",
     "collapsed": false,
     "input": [
      "def split_multiple(text, sep_list):\n",
      "    rvs = [text]\n",
      "    for s in sep_list:\n",
      "        rvs = [split for splits in [rv.split(s) for rv in rvs] for split in splits]\n",
      "    return rvs\n",
      "split_multiple(\"I love food, you know me\\nThat's why I love you so, avocado\", [\"\\n\", \",\"])"
     ],
     "language": "python",
     "metadata": {},
     "outputs": [
      {
       "metadata": {},
       "output_type": "pyout",
       "prompt_number": 159,
       "text": [
        "['I love food', ' you know me', \"That's why I love you so\", ' avocado']"
       ]
      }
     ],
     "prompt_number": 159
    },
    {
     "cell_type": "code",
     "collapsed": false,
     "input": [
      "def poetry_to_songs(text):\n",
      "    sentences = split_multiple(text, [\"\\n\",\",\"])\n",
      "    hits = []\n",
      "    for s in sentences:\n",
      "        hits.append(line_to_song(s))\n",
      "    return hits\n",
      "\n",
      "hits = poetry_to_songs(\"I love food, you know me\\nThat's why I love you so, avocado\")\n",
      "pprint(hits)"
     ],
     "language": "python",
     "metadata": {},
     "outputs": [
      {
       "output_type": "stream",
       "stream": "stdout",
       "text": [
        "[(3, [(u'I Love Food', u'09lLvyXul4ekZQ3nfPNXLI')]),\n",
        " (3, [(u'You Know Me', u'099TPpEaCSjEwysWZeTZv1')]),\n",
        " (6, [(u'That\\u2019s Why I Love You So', u'6AQ32wPAxVAg17TLsXAokl')]),\n",
        " (1, [(u'Avocado', u'1UyzA43l3OIcJ6jd3hh3ac')])]\n"
       ]
      }
     ],
     "prompt_number": 160
    },
    {
     "cell_type": "code",
     "collapsed": false,
     "input": [
      "def hits_to_html(hits):\n",
      "    widget = '<iframe src=\"https://embed.spotify.com/?uri=spotify:track:{track_id}\" width=\"400\" height=\"80\" frameborder=\"0\" allowtransparency=\"true\"></iframe>'\n",
      "    return \"<br />\".join([widget.format(track_id=track[1]) for h in hits for track in h[1]])\n",
      "HTML(hits_to_html(poetry_to_songs(\"I love food, you know me\\nThat's why I love you so, avocado\")))"
     ],
     "language": "python",
     "metadata": {},
     "outputs": [
      {
       "html": [
        "<iframe src=\"https://embed.spotify.com/?uri=spotify:track:09lLvyXul4ekZQ3nfPNXLI\" width=\"400\" height=\"80\" frameborder=\"0\" allowtransparency=\"true\"></iframe><br /><iframe src=\"https://embed.spotify.com/?uri=spotify:track:099TPpEaCSjEwysWZeTZv1\" width=\"400\" height=\"80\" frameborder=\"0\" allowtransparency=\"true\"></iframe><br /><iframe src=\"https://embed.spotify.com/?uri=spotify:track:6AQ32wPAxVAg17TLsXAokl\" width=\"400\" height=\"80\" frameborder=\"0\" allowtransparency=\"true\"></iframe><br /><iframe src=\"https://embed.spotify.com/?uri=spotify:track:1UyzA43l3OIcJ6jd3hh3ac\" width=\"400\" height=\"80\" frameborder=\"0\" allowtransparency=\"true\"></iframe>"
       ],
       "metadata": {},
       "output_type": "pyout",
       "prompt_number": 164,
       "text": [
        "<IPython.core.display.HTML at 0x1cad910>"
       ]
      }
     ],
     "prompt_number": 164
    },
    {
     "cell_type": "code",
     "collapsed": false,
     "input": [],
     "language": "python",
     "metadata": {},
     "outputs": []
    }
   ],
   "metadata": {}
  }
 ]
}